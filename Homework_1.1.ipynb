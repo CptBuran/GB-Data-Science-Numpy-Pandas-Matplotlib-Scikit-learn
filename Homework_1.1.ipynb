import numpy as np

a1 = np.array([[1, 2, 3, 3, 1],
               [ 6, 8, 11, 10, 7]])
a = a1.T
a

mean_a = a.mean(axis = 0)
mean_a

a_centered = a - mean_a
a_centered

X1 = a_centered[:5, 0]
X1

X2 = a_centered[:5, 1:]
X2

a_centered_sp = a_centered[:5,0] @ a_centered[:5, 1]
a_centered_sp

z = np.array(a.shape)
z

answer = a_centered_sp/(z[0] - 1)
answer

covar = np.cov(a1)
covar