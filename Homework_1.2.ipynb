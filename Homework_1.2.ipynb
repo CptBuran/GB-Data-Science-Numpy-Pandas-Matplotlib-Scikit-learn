import numpy as np
import pandas as pd

authors = pd.DataFrame({'author_id': [1, 2, 3], 'author_name': ['Тургенев', 'Чехов', 'Островский']})
authors

book = pd.DataFrame({'author_id' : [1, 1, 1, 2, 2, 3, 3], 'book_title' : ['Отцы и дети', 'Рудин', 'Дворянское гнездо', 'Толстый и тонкий', 'Дама с собачкой', 'Гроза', 'Таланты и поклонники'],
                    'price' : [450, 300, 350, 500, 450, 370, 290]})
book

authors_price = pd.merge(authors, book, on = 'author_id', how = 'outer')
authors_price

top5 = authors_price.sort_values(by = 'price', ascending = False)


top5 = top5.reset_index(drop = True)
top5.head(5)

a1 = authors_price.groupby('author_name')['price'].max()

a3 = authors_price.groupby('author_name')['price'].min()


a2 = authors_price.groupby('author_name')['price'].mean()


a4 = pd.merge(a1, a2, on = 'author_name', how = 'outer')


authors_stat = pd.merge(a3, a4, on = 'author_name', how = 'inner')
authors_stat.rename(columns = {'price' : 'min_price', 'price_x' : 'max_price', 'price_y' : 'mean_price'}, inplace = True) 
authors_stat

authors_price['cover'] = ['твердая', 'мягкая', 'мягкая', 'твердая', 'твердая', 'мягкая', 'мягкая']
authors_price

book_info = pd.pivot_table(authors_price, index = 'author_name', columns = 'cover', values = 'price', aggfunc = np.sum, fill_value = 0)
book_info

book_info.to_pickle('book_info.pkl')

book_info2 = pd.read_pickle('book_info.pkl')

book_info2

